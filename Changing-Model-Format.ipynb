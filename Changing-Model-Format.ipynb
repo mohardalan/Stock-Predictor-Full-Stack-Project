{
 "cells": [
  {
   "cell_type": "code",
   "execution_count": 3,
   "id": "d99a73ef",
   "metadata": {},
   "outputs": [
    {
     "name": "stdout",
     "output_type": "stream",
     "text": [
      "INFO:tensorflow:Assets written to: Saved_Models/stock_prediction_model-close-value-Daily_keras_format\\assets\n"
     ]
    },
    {
     "name": "stderr",
     "output_type": "stream",
     "text": [
      "INFO:tensorflow:Assets written to: Saved_Models/stock_prediction_model-close-value-Daily_keras_format\\assets\n"
     ]
    }
   ],
   "source": [
    "import tensorflow as tf\n",
    "from tensorflow.keras.models import load_model, save_model\n",
    "\n",
    "# Load the model from the HDF5 file\n",
    "model = load_model('Saved_Models/stock_prediction_model-close-value-Daily.h5')\n",
    "\n",
    "# Save the model in the Keras format\n",
    "save_model(model, 'Saved_Models/stock_prediction_model-close-value-Daily_keras_format', save_format='tf')\n"
   ]
  },
  {
   "cell_type": "code",
   "execution_count": 5,
   "id": "1878e27a",
   "metadata": {},
   "outputs": [
    {
     "data": {
      "text/plain": [
       "'2.13.1'"
      ]
     },
     "execution_count": 5,
     "metadata": {},
     "output_type": "execute_result"
    }
   ],
   "source": [
    "tf.__version__"
   ]
  },
  {
   "cell_type": "code",
   "execution_count": null,
   "id": "2aa69efe",
   "metadata": {},
   "outputs": [],
   "source": []
  }
 ],
 "metadata": {
  "kernelspec": {
   "display_name": "Python 3 (ipykernel)",
   "language": "python",
   "name": "python3"
  },
  "language_info": {
   "codemirror_mode": {
    "name": "ipython",
    "version": 3
   },
   "file_extension": ".py",
   "mimetype": "text/x-python",
   "name": "python",
   "nbconvert_exporter": "python",
   "pygments_lexer": "ipython3",
   "version": "3.10.9"
  }
 },
 "nbformat": 4,
 "nbformat_minor": 5
}
