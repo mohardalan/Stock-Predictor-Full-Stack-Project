{
 "cells": [
  {
   "cell_type": "markdown",
   "metadata": {
    "id": "fw8uPOPDVVuV"
   },
   "source": [
    "# Fine-tuning LSTM model using PSO optimization method"
   ]
  },
  {
   "cell_type": "code",
   "execution_count": 1,
   "metadata": {
    "id": "dIfZl639VpGb"
   },
   "outputs": [],
   "source": [
    "import os\n",
    "import numpy as np\n",
    "import matplotlib.pyplot as plt\n",
    "import pandas as pd\n",
    "import tensorflow as tf\n",
    "from tensorflow.keras.models import Sequential\n",
    "from tensorflow.keras.layers import Dense, LSTM\n",
    "from sklearn.preprocessing import MinMaxScaler\n",
    "from sklearn.metrics import mean_squared_error\n",
    "import matplotlib.pyplot as plt\n",
    "from pyswarms.single.global_best import GlobalBestPSO\n",
    "tf.random.set_seed(33)"
   ]
  },
  {
   "cell_type": "code",
   "execution_count": 154,
   "metadata": {},
   "outputs": [],
   "source": [
    "data_dir= 'Data/Stock_Values'\n",
    "files_names= os.listdir(path= data_dir)[:10]\n",
    "\n",
    "dataset =[]\n",
    "for files_name in files_names:\n",
    "    file_path= os.path.join(data_dir, files_name)\n",
    "    data = pd.read_csv(file_path)\n",
    "    data = pd.DataFrame(data['Close']).values.astype('float32')\n",
    "    if len(data)>=503: \n",
    "        # normalize the dataset with MinMax normalization\n",
    "        scaler = MinMaxScaler(feature_range=(0, 1))\n",
    "        data = scaler.fit_transform(data)\n",
    "        dataset.append(data)\n",
    "dataset= np.array(dataset).reshape(-1,1)"
   ]
  },
  {
   "cell_type": "code",
   "execution_count": 155,
   "metadata": {},
   "outputs": [
    {
     "name": "stdout",
     "output_type": "stream",
     "text": [
      "4778 252\n"
     ]
    }
   ],
   "source": [
    "# split into train and test sets\n",
    "train_size = int(len(dataset) * 0.95)\n",
    "test_size = len(dataset) - train_size\n",
    "\n",
    "train, test = dataset[0:train_size,:], dataset[train_size:len(dataset),:]\n",
    "print(len(train), len(test))"
   ]
  },
  {
   "cell_type": "code",
   "execution_count": 156,
   "metadata": {
    "id": "q6YqyA2CVzsm"
   },
   "outputs": [],
   "source": [
    "# convert an array of values into a dataset matrix\n",
    "def create_dataset(dataset, look_back):\n",
    "  dataX, dataY = [], []\n",
    "  for i in range(len(dataset)-look_back-1):\n",
    "    dataX.append(dataset[i:(i+look_back), 0])\n",
    "    dataY.append(dataset[i + look_back, 0])\n",
    "  return np.array(dataX), np.array(dataY)"
   ]
  },
  {
   "cell_type": "code",
   "execution_count": 157,
   "metadata": {
    "id": "ajGFqx3JWCqa"
   },
   "outputs": [],
   "source": [
    "# Define the objective function\n",
    "def objective_function(params):\n",
    "    \n",
    "    Costs = np.zeros(params.shape[0])  \n",
    "    for i in range(params.shape[0]):\n",
    "        look_back= int(params[i, 0])\n",
    "        Nunits= int(params[i, 1])\n",
    "        activation= int(params[i, 2])\n",
    "        NLayer= int(params[i, 2])\n",
    "        \n",
    "        if activation < 2:\n",
    "            activation = 'tanh'\n",
    "        else: \n",
    "            activation = 'relu'\n",
    "    \n",
    "    trainX, trainY = create_dataset(train, look_back)\n",
    "    testX, testY = create_dataset(test, look_back)\n",
    "\n",
    "    # reshape input to be [samples, time steps, features]\n",
    "    trainX = np.reshape(trainX, (trainX.shape[0], 1, trainX.shape[1]))\n",
    "    testX = np.reshape(testX, (testX.shape[0], 1, testX.shape[1]))\n",
    "    \n",
    "    # create and fit the LSTM network\n",
    "    model = Sequential()\n",
    "    for t in range(1,NLayer+1):\n",
    "        if t == 1 and NLayer == 1:\n",
    "            model.add(LSTM(units=Nunits, activation=activation, input_shape=(1, look_back)))\n",
    "        elif t == 1 and NLayer > 1:\n",
    "            model.add(LSTM(units=Nunits, activation=activation, input_shape=(1, look_back), return_sequences=True))\n",
    "        elif t == NLayer:\n",
    "            model.add(LSTM(units=Nunits, activation=activation))\n",
    "        else:\n",
    "            model.add(LSTM(units=Nunits, activation=activation, return_sequences=True)) \n",
    "    model.add(Dense(1))\n",
    "\n",
    "    model.compile(loss='mean_squared_error', optimizer='adam')\n",
    "    model.fit(trainX, trainY, epochs=10, batch_size=1, verbose=2)\n",
    "    \n",
    "    \n",
    "    # make predictions\n",
    "    trainPredict = model.predict(trainX)\n",
    "    # invert predictions\n",
    "    trainPredict = scaler.inverse_transform(trainPredict)\n",
    "    trainY = scaler.inverse_transform([trainY])\n",
    "    # calculate root mean squared error\n",
    "    trainScore = np.sqrt(mean_squared_error(trainY[0], trainPredict[:,0]))\n",
    "    print('Train Score: %.2f RMSE' % (trainScore))\n",
    "    \n",
    "    \n",
    "    # make predictions\n",
    "    testPredict = model.predict(testX)\n",
    "    # invert predictions\n",
    "    testPredict = scaler.inverse_transform(testPredict)\n",
    "    testY = scaler.inverse_transform([testY])\n",
    "    # calculate root mean squared error\n",
    "    testScore = np.sqrt(mean_squared_error(testY[0], testPredict[:,0]))\n",
    "    print('Test Score: %.2f RMSE' % (testScore))\n",
    "    \n",
    "    Cost= (0.1*trainScore + 0.9*testScore)**2\n",
    "    \n",
    "    # Return the validation loss as the objective value\n",
    "    return Cost"
   ]
  },
  {
   "cell_type": "code",
   "execution_count": 158,
   "metadata": {
    "id": "ISglkjpoWrFH"
   },
   "outputs": [],
   "source": [
    "# Define hyperparameters \n",
    "#  [look_back, Nunits, activation, NLayer]\n",
    "# Define the bounds for the hyperparameters\n",
    "lower_bound = np.array([2, 4, 1, 1])\n",
    "upper_bound = np.array([30, 20, 3, 5])\n",
    "bounds = (lower_bound, upper_bound)"
   ]
  },
  {
   "cell_type": "code",
   "execution_count": 159,
   "metadata": {
    "scrolled": true
   },
   "outputs": [
    {
     "name": "stderr",
     "output_type": "stream",
     "text": [
      "2024-04-12 13:51:22,421 - pyswarms.single.global_best - INFO - Optimize for 20 iters with {'c1': 0.5, 'c2': 0.3, 'w': 0.9}\n",
      "pyswarms.single.global_best:   0%|          |0/20"
     ]
    },
    {
     "name": "stdout",
     "output_type": "stream",
     "text": [
      "Epoch 1/10\n",
      "4750/4750 - 10s - loss: 0.0040 - 10s/epoch - 2ms/step\n",
      "Epoch 2/10\n",
      "4750/4750 - 6s - loss: 0.0022 - 6s/epoch - 1ms/step\n",
      "Epoch 3/10\n",
      "4750/4750 - 9s - loss: 0.0020 - 9s/epoch - 2ms/step\n",
      "Epoch 4/10\n",
      "4750/4750 - 6s - loss: 0.0019 - 6s/epoch - 1ms/step\n",
      "Epoch 5/10\n",
      "4750/4750 - 9s - loss: 0.0018 - 9s/epoch - 2ms/step\n",
      "Epoch 6/10\n",
      "4750/4750 - 5s - loss: 0.0017 - 5s/epoch - 1ms/step\n",
      "Epoch 7/10\n",
      "4750/4750 - 10s - loss: 0.0017 - 10s/epoch - 2ms/step\n",
      "Epoch 8/10\n",
      "4750/4750 - 6s - loss: 0.0016 - 6s/epoch - 1ms/step\n",
      "Epoch 9/10\n",
      "4750/4750 - 10s - loss: 0.0016 - 10s/epoch - 2ms/step\n",
      "Epoch 10/10\n",
      "4750/4750 - 6s - loss: 0.0016 - 6s/epoch - 1ms/step\n",
      "149/149 [==============================] - 1s 1ms/step\n",
      "Train Score: 1.52 RMSE\n",
      "7/7 [==============================] - 0s 2ms/step\n"
     ]
    },
    {
     "name": "stderr",
     "output_type": "stream",
     "text": [
      "pyswarms.single.global_best:   5%|▌         |1/20, best_cost=1.77"
     ]
    },
    {
     "name": "stdout",
     "output_type": "stream",
     "text": [
      "Test Score: 1.31 RMSE\n",
      "Epoch 1/10\n",
      "4755/4755 - 13s - loss: 0.0098 - 13s/epoch - 3ms/step\n",
      "Epoch 2/10\n",
      "4755/4755 - 8s - loss: 0.0023 - 8s/epoch - 2ms/step\n",
      "Epoch 3/10\n",
      "4755/4755 - 9s - loss: 0.0020 - 9s/epoch - 2ms/step\n",
      "Epoch 4/10\n",
      "4755/4755 - 10s - loss: 0.0018 - 10s/epoch - 2ms/step\n",
      "Epoch 5/10\n",
      "4755/4755 - 9s - loss: 0.0018 - 9s/epoch - 2ms/step\n",
      "Epoch 6/10\n",
      "4755/4755 - 12s - loss: 0.0018 - 12s/epoch - 3ms/step\n",
      "Epoch 7/10\n",
      "4755/4755 - 7s - loss: 0.0017 - 7s/epoch - 2ms/step\n",
      "Epoch 8/10\n",
      "4755/4755 - 10s - loss: 0.0017 - 10s/epoch - 2ms/step\n",
      "Epoch 9/10\n",
      "4755/4755 - 9s - loss: 0.0017 - 9s/epoch - 2ms/step\n",
      "Epoch 10/10\n",
      "4755/4755 - 9s - loss: 0.0017 - 9s/epoch - 2ms/step\n",
      "149/149 [==============================] - 0s 1ms/step\n",
      "Train Score: 1.31 RMSE\n",
      "8/8 [==============================] - 0s 2ms/step\n"
     ]
    },
    {
     "name": "stderr",
     "output_type": "stream",
     "text": [
      "pyswarms.single.global_best:  10%|█         |2/20, best_cost=1.11"
     ]
    },
    {
     "name": "stdout",
     "output_type": "stream",
     "text": [
      "Test Score: 1.03 RMSE\n",
      "Epoch 1/10\n",
      "4760/4760 - 11s - loss: 0.0041 - 11s/epoch - 2ms/step\n",
      "Epoch 2/10\n",
      "4760/4760 - 7s - loss: 0.0021 - 7s/epoch - 1ms/step\n",
      "Epoch 3/10\n",
      "4760/4760 - 10s - loss: 0.0019 - 10s/epoch - 2ms/step\n",
      "Epoch 4/10\n",
      "4760/4760 - 7s - loss: 0.0018 - 7s/epoch - 1ms/step\n",
      "Epoch 5/10\n",
      "4760/4760 - 9s - loss: 0.0017 - 9s/epoch - 2ms/step\n",
      "Epoch 6/10\n",
      "4760/4760 - 7s - loss: 0.0017 - 7s/epoch - 1ms/step\n",
      "Epoch 7/10\n",
      "4760/4760 - 10s - loss: 0.0016 - 10s/epoch - 2ms/step\n",
      "Epoch 8/10\n",
      "4760/4760 - 7s - loss: 0.0016 - 7s/epoch - 1ms/step\n",
      "Epoch 9/10\n",
      "4760/4760 - 10s - loss: 0.0016 - 10s/epoch - 2ms/step\n",
      "Epoch 10/10\n",
      "4760/4760 - 7s - loss: 0.0015 - 7s/epoch - 1ms/step\n",
      "149/149 [==============================] - 1s 1ms/step\n",
      "Train Score: 1.29 RMSE\n",
      "8/8 [==============================] - 0s 2ms/step\n"
     ]
    },
    {
     "name": "stderr",
     "output_type": "stream",
     "text": [
      "pyswarms.single.global_best:  15%|█▌        |3/20, best_cost=0.864"
     ]
    },
    {
     "name": "stdout",
     "output_type": "stream",
     "text": [
      "Test Score: 0.89 RMSE\n",
      "Epoch 1/10\n",
      "4765/4765 - 11s - loss: 0.0080 - 11s/epoch - 2ms/step\n",
      "Epoch 2/10\n",
      "4765/4765 - 11s - loss: 0.0020 - 11s/epoch - 2ms/step\n",
      "Epoch 3/10\n",
      "4765/4765 - 7s - loss: 0.0018 - 7s/epoch - 1ms/step\n",
      "Epoch 4/10\n",
      "4765/4765 - 10s - loss: 0.0018 - 10s/epoch - 2ms/step\n",
      "Epoch 5/10\n",
      "4765/4765 - 7s - loss: 0.0017 - 7s/epoch - 2ms/step\n",
      "Epoch 6/10\n",
      "4765/4765 - 10s - loss: 0.0017 - 10s/epoch - 2ms/step\n",
      "Epoch 7/10\n",
      "4765/4765 - 8s - loss: 0.0017 - 8s/epoch - 2ms/step\n",
      "Epoch 8/10\n",
      "4765/4765 - 9s - loss: 0.0016 - 9s/epoch - 2ms/step\n",
      "Epoch 9/10\n",
      "4765/4765 - 9s - loss: 0.0016 - 9s/epoch - 2ms/step\n",
      "Epoch 10/10\n",
      "4765/4765 - 9s - loss: 0.0016 - 9s/epoch - 2ms/step\n",
      "149/149 [==============================] - 0s 1ms/step\n",
      "Train Score: 1.34 RMSE\n",
      "8/8 [==============================] - 0s 2ms/step\n"
     ]
    },
    {
     "name": "stderr",
     "output_type": "stream",
     "text": [
      "pyswarms.single.global_best:  20%|██        |4/20, best_cost=0.864"
     ]
    },
    {
     "name": "stdout",
     "output_type": "stream",
     "text": [
      "Test Score: 0.89 RMSE\n",
      "Epoch 1/10\n",
      "4768/4768 - 11s - loss: 0.0043 - 11s/epoch - 2ms/step\n",
      "Epoch 2/10\n",
      "4768/4768 - 6s - loss: 0.0018 - 6s/epoch - 1ms/step\n",
      "Epoch 3/10\n",
      "4768/4768 - 10s - loss: 0.0017 - 10s/epoch - 2ms/step\n",
      "Epoch 4/10\n",
      "4768/4768 - 6s - loss: 0.0016 - 6s/epoch - 1ms/step\n",
      "Epoch 5/10\n",
      "4768/4768 - 10s - loss: 0.0016 - 10s/epoch - 2ms/step\n",
      "Epoch 6/10\n",
      "4768/4768 - 6s - loss: 0.0015 - 6s/epoch - 1ms/step\n",
      "Epoch 7/10\n",
      "4768/4768 - 10s - loss: 0.0015 - 10s/epoch - 2ms/step\n",
      "Epoch 8/10\n",
      "4768/4768 - 6s - loss: 0.0015 - 6s/epoch - 1ms/step\n",
      "Epoch 9/10\n",
      "4768/4768 - 10s - loss: 0.0015 - 10s/epoch - 2ms/step\n",
      "Epoch 10/10\n",
      "4768/4768 - 6s - loss: 0.0015 - 6s/epoch - 1ms/step\n",
      "149/149 [==============================] - 1s 2ms/step\n",
      "Train Score: 1.45 RMSE\n",
      "8/8 [==============================] - 0s 2ms/step\n"
     ]
    },
    {
     "name": "stderr",
     "output_type": "stream",
     "text": [
      "pyswarms.single.global_best:  25%|██▌       |5/20, best_cost=0.864"
     ]
    },
    {
     "name": "stdout",
     "output_type": "stream",
     "text": [
      "Test Score: 1.33 RMSE\n",
      "Epoch 1/10\n",
      "4770/4770 - 11s - loss: 0.0045 - 11s/epoch - 2ms/step\n",
      "Epoch 2/10\n",
      "4770/4770 - 9s - loss: 0.0019 - 9s/epoch - 2ms/step\n",
      "Epoch 3/10\n",
      "4770/4770 - 8s - loss: 0.0017 - 8s/epoch - 2ms/step\n",
      "Epoch 4/10\n",
      "4770/4770 - 10s - loss: 0.0016 - 10s/epoch - 2ms/step\n",
      "Epoch 5/10\n",
      "4770/4770 - 6s - loss: 0.0015 - 6s/epoch - 1ms/step\n",
      "Epoch 6/10\n",
      "4770/4770 - 9s - loss: 0.0015 - 9s/epoch - 2ms/step\n",
      "Epoch 7/10\n",
      "4770/4770 - 6s - loss: 0.0015 - 6s/epoch - 1ms/step\n",
      "Epoch 8/10\n",
      "4770/4770 - 9s - loss: 0.0015 - 9s/epoch - 2ms/step\n",
      "Epoch 9/10\n",
      "4770/4770 - 7s - loss: 0.0015 - 7s/epoch - 1ms/step\n",
      "Epoch 10/10\n",
      "4770/4770 - 8s - loss: 0.0014 - 8s/epoch - 2ms/step\n",
      "150/150 [==============================] - 1s 3ms/step\n",
      "Train Score: 1.28 RMSE\n",
      "8/8 [==============================] - 0s 3ms/step\n"
     ]
    },
    {
     "name": "stderr",
     "output_type": "stream",
     "text": [
      "pyswarms.single.global_best:  30%|███       |6/20, best_cost=0.864"
     ]
    },
    {
     "name": "stdout",
     "output_type": "stream",
     "text": [
      "Test Score: 0.92 RMSE\n",
      "Epoch 1/10\n",
      "4770/4770 - 12s - loss: 0.0082 - 12s/epoch - 2ms/step\n",
      "Epoch 2/10\n",
      "4770/4770 - 9s - loss: 0.0022 - 9s/epoch - 2ms/step\n",
      "Epoch 3/10\n",
      "4770/4770 - 9s - loss: 0.0018 - 9s/epoch - 2ms/step\n",
      "Epoch 4/10\n",
      "4770/4770 - 8s - loss: 0.0017 - 8s/epoch - 2ms/step\n",
      "Epoch 5/10\n",
      "4770/4770 - 11s - loss: 0.0017 - 11s/epoch - 2ms/step\n",
      "Epoch 6/10\n",
      "4770/4770 - 8s - loss: 0.0017 - 8s/epoch - 2ms/step\n",
      "Epoch 7/10\n",
      "4770/4770 - 11s - loss: 0.0016 - 11s/epoch - 2ms/step\n",
      "Epoch 8/10\n",
      "4770/4770 - 8s - loss: 0.0016 - 8s/epoch - 2ms/step\n",
      "Epoch 9/10\n",
      "4770/4770 - 10s - loss: 0.0016 - 10s/epoch - 2ms/step\n",
      "Epoch 10/10\n",
      "4770/4770 - 9s - loss: 0.0016 - 9s/epoch - 2ms/step\n",
      "150/150 [==============================] - 1s 3ms/step\n",
      "Train Score: 1.31 RMSE\n",
      "8/8 [==============================] - 0s 3ms/step\n"
     ]
    },
    {
     "name": "stderr",
     "output_type": "stream",
     "text": [
      "pyswarms.single.global_best:  35%|███▌      |7/20, best_cost=0.864"
     ]
    },
    {
     "name": "stdout",
     "output_type": "stream",
     "text": [
      "Test Score: 1.00 RMSE\n",
      "Epoch 1/10\n",
      "4770/4770 - 9s - loss: 0.0074 - 9s/epoch - 2ms/step\n",
      "Epoch 2/10\n",
      "4770/4770 - 10s - loss: 0.0018 - 10s/epoch - 2ms/step\n",
      "Epoch 3/10\n",
      "4770/4770 - 7s - loss: 0.0018 - 7s/epoch - 2ms/step\n",
      "Epoch 4/10\n",
      "4770/4770 - 9s - loss: 0.0016 - 9s/epoch - 2ms/step\n",
      "Epoch 5/10\n",
      "4770/4770 - 8s - loss: 0.0016 - 8s/epoch - 2ms/step\n",
      "Epoch 6/10\n",
      "4770/4770 - 9s - loss: 0.0016 - 9s/epoch - 2ms/step\n",
      "Epoch 7/10\n",
      "4770/4770 - 8s - loss: 0.0016 - 8s/epoch - 2ms/step\n",
      "Epoch 8/10\n",
      "4770/4770 - 8s - loss: 0.0016 - 8s/epoch - 2ms/step\n",
      "Epoch 9/10\n",
      "4770/4770 - 9s - loss: 0.0016 - 9s/epoch - 2ms/step\n",
      "Epoch 10/10\n",
      "4770/4770 - 8s - loss: 0.0015 - 8s/epoch - 2ms/step\n",
      "150/150 [==============================] - 1s 2ms/step\n",
      "Train Score: 1.30 RMSE\n",
      "8/8 [==============================] - 0s 2ms/step\n"
     ]
    },
    {
     "name": "stderr",
     "output_type": "stream",
     "text": [
      "pyswarms.single.global_best:  40%|████      |8/20, best_cost=0.864"
     ]
    },
    {
     "name": "stdout",
     "output_type": "stream",
     "text": [
      "Test Score: 1.03 RMSE\n",
      "Epoch 1/10\n",
      "4767/4767 - 12s - loss: 0.0043 - 12s/epoch - 2ms/step\n",
      "Epoch 2/10\n",
      "4767/4767 - 6s - loss: 0.0018 - 6s/epoch - 1ms/step\n",
      "Epoch 3/10\n",
      "4767/4767 - 9s - loss: 0.0016 - 9s/epoch - 2ms/step\n",
      "Epoch 4/10\n",
      "4767/4767 - 6s - loss: 0.0016 - 6s/epoch - 1ms/step\n",
      "Epoch 5/10\n",
      "4767/4767 - 10s - loss: 0.0016 - 10s/epoch - 2ms/step\n",
      "Epoch 6/10\n",
      "4767/4767 - 6s - loss: 0.0016 - 6s/epoch - 1ms/step\n",
      "Epoch 7/10\n",
      "4767/4767 - 9s - loss: 0.0015 - 9s/epoch - 2ms/step\n",
      "Epoch 8/10\n",
      "4767/4767 - 5s - loss: 0.0015 - 5s/epoch - 1ms/step\n",
      "Epoch 9/10\n",
      "4767/4767 - 10s - loss: 0.0015 - 10s/epoch - 2ms/step\n",
      "Epoch 10/10\n",
      "4767/4767 - 6s - loss: 0.0015 - 6s/epoch - 1ms/step\n",
      "149/149 [==============================] - 1s 1ms/step\n",
      "Train Score: 1.27 RMSE\n",
      "8/8 [==============================] - 0s 2ms/step\n"
     ]
    },
    {
     "name": "stderr",
     "output_type": "stream",
     "text": [
      "pyswarms.single.global_best:  45%|████▌     |9/20, best_cost=0.722"
     ]
    },
    {
     "name": "stdout",
     "output_type": "stream",
     "text": [
      "Test Score: 0.80 RMSE\n",
      "Epoch 1/10\n",
      "4765/4765 - 11s - loss: 0.0054 - 11s/epoch - 2ms/step\n",
      "Epoch 2/10\n",
      "4765/4765 - 7s - loss: 0.0023 - 7s/epoch - 2ms/step\n",
      "Epoch 3/10\n",
      "4765/4765 - 10s - loss: 0.0021 - 10s/epoch - 2ms/step\n",
      "Epoch 4/10\n",
      "4765/4765 - 8s - loss: 0.0019 - 8s/epoch - 2ms/step\n",
      "Epoch 5/10\n",
      "4765/4765 - 9s - loss: 0.0018 - 9s/epoch - 2ms/step\n",
      "Epoch 6/10\n",
      "4765/4765 - 9s - loss: 0.0017 - 9s/epoch - 2ms/step\n",
      "Epoch 7/10\n",
      "4765/4765 - 9s - loss: 0.0018 - 9s/epoch - 2ms/step\n",
      "Epoch 8/10\n",
      "4765/4765 - 10s - loss: 0.0017 - 10s/epoch - 2ms/step\n",
      "Epoch 9/10\n",
      "4765/4765 - 7s - loss: 0.0016 - 7s/epoch - 1ms/step\n",
      "Epoch 10/10\n",
      "4765/4765 - 11s - loss: 0.0016 - 11s/epoch - 2ms/step\n",
      "149/149 [==============================] - 0s 1ms/step\n",
      "Train Score: 1.37 RMSE\n",
      "8/8 [==============================] - 0s 2ms/step\n"
     ]
    },
    {
     "name": "stderr",
     "output_type": "stream",
     "text": [
      "pyswarms.single.global_best:  50%|█████     |10/20, best_cost=0.722"
     ]
    },
    {
     "name": "stdout",
     "output_type": "stream",
     "text": [
      "Test Score: 0.91 RMSE\n",
      "Epoch 1/10\n",
      "4763/4763 - 12s - loss: 0.0071 - 12s/epoch - 2ms/step\n",
      "Epoch 2/10\n",
      "4763/4763 - 7s - loss: 0.0022 - 7s/epoch - 2ms/step\n",
      "Epoch 3/10\n",
      "4763/4763 - 11s - loss: 0.0020 - 11s/epoch - 2ms/step\n",
      "Epoch 4/10\n",
      "4763/4763 - 8s - loss: 0.0018 - 8s/epoch - 2ms/step\n",
      "Epoch 5/10\n",
      "4763/4763 - 11s - loss: 0.0017 - 11s/epoch - 2ms/step\n",
      "Epoch 6/10\n",
      "4763/4763 - 8s - loss: 0.0018 - 8s/epoch - 2ms/step\n",
      "Epoch 7/10\n",
      "4763/4763 - 10s - loss: 0.0017 - 10s/epoch - 2ms/step\n",
      "Epoch 8/10\n",
      "4763/4763 - 10s - loss: 0.0016 - 10s/epoch - 2ms/step\n",
      "Epoch 9/10\n",
      "4763/4763 - 9s - loss: 0.0017 - 9s/epoch - 2ms/step\n",
      "Epoch 10/10\n",
      "4763/4763 - 11s - loss: 0.0016 - 11s/epoch - 2ms/step\n",
      "149/149 [==============================] - 0s 1ms/step\n",
      "Train Score: 1.33 RMSE\n",
      "8/8 [==============================] - 0s 2ms/step\n"
     ]
    },
    {
     "name": "stderr",
     "output_type": "stream",
     "text": [
      "\r\n",
      "pyswarms.single.global_best:  50%|█████     |10/20, best_cost=0.722"
     ]
    },
    {
     "name": "stdout",
     "output_type": "stream",
     "text": [
      "Test Score: 0.89 RMSE\n"
     ]
    },
    {
     "name": "stderr",
     "output_type": "stream",
     "text": [
      "\r\n",
      "pyswarms.single.global_best:  55%|█████▌    |11/20, best_cost=0.722"
     ]
    },
    {
     "name": "stdout",
     "output_type": "stream",
     "text": [
      "Epoch 1/10\n",
      "4763/4763 - 9s - loss: 0.0044 - 9s/epoch - 2ms/step\n",
      "Epoch 2/10\n",
      "4763/4763 - 8s - loss: 0.0019 - 8s/epoch - 2ms/step\n",
      "Epoch 3/10\n",
      "4763/4763 - 7s - loss: 0.0018 - 7s/epoch - 2ms/step\n",
      "Epoch 4/10\n",
      "4763/4763 - 8s - loss: 0.0017 - 8s/epoch - 2ms/step\n",
      "Epoch 5/10\n",
      "4763/4763 - 7s - loss: 0.0016 - 7s/epoch - 1ms/step\n",
      "Epoch 6/10\n",
      "4763/4763 - 9s - loss: 0.0017 - 9s/epoch - 2ms/step\n",
      "Epoch 7/10\n",
      "4763/4763 - 7s - loss: 0.0016 - 7s/epoch - 1ms/step\n",
      "Epoch 8/10\n",
      "4763/4763 - 9s - loss: 0.0015 - 9s/epoch - 2ms/step\n",
      "Epoch 9/10\n",
      "4763/4763 - 7s - loss: 0.0016 - 7s/epoch - 1ms/step\n",
      "Epoch 10/10\n",
      "4763/4763 - 8s - loss: 0.0015 - 8s/epoch - 2ms/step\n",
      "149/149 [==============================] - 0s 1ms/step\n",
      "Train Score: 1.32 RMSE\n",
      "8/8 [==============================] - 0s 2ms/step\n"
     ]
    },
    {
     "name": "stderr",
     "output_type": "stream",
     "text": [
      "pyswarms.single.global_best:  60%|██████    |12/20, best_cost=0.722"
     ]
    },
    {
     "name": "stdout",
     "output_type": "stream",
     "text": [
      "Test Score: 0.87 RMSE\n",
      "Epoch 1/10\n",
      "4763/4763 - 12s - loss: 0.0082 - 12s/epoch - 3ms/step\n",
      "Epoch 2/10\n",
      "4763/4763 - 7s - loss: 0.0023 - 7s/epoch - 1ms/step\n",
      "Epoch 3/10\n",
      "4763/4763 - 11s - loss: 0.0020 - 11s/epoch - 2ms/step\n",
      "Epoch 4/10\n",
      "4763/4763 - 7s - loss: 0.0019 - 7s/epoch - 1ms/step\n",
      "Epoch 5/10\n",
      "4763/4763 - 10s - loss: 0.0017 - 10s/epoch - 2ms/step\n",
      "Epoch 6/10\n",
      "4763/4763 - 8s - loss: 0.0017 - 8s/epoch - 2ms/step\n",
      "Epoch 7/10\n",
      "4763/4763 - 10s - loss: 0.0017 - 10s/epoch - 2ms/step\n",
      "Epoch 8/10\n",
      "4763/4763 - 10s - loss: 0.0016 - 10s/epoch - 2ms/step\n",
      "Epoch 9/10\n",
      "4763/4763 - 7s - loss: 0.0017 - 7s/epoch - 2ms/step\n",
      "Epoch 10/10\n",
      "4763/4763 - 11s - loss: 0.0016 - 11s/epoch - 2ms/step\n",
      "149/149 [==============================] - 0s 1ms/step\n",
      "Train Score: 1.35 RMSE\n",
      "8/8 [==============================] - 0s 2ms/step\n"
     ]
    },
    {
     "name": "stderr",
     "output_type": "stream",
     "text": [
      "pyswarms.single.global_best:  65%|██████▌   |13/20, best_cost=0.722"
     ]
    },
    {
     "name": "stdout",
     "output_type": "stream",
     "text": [
      "Test Score: 0.93 RMSE\n",
      "Epoch 1/10\n",
      "4764/4764 - 8s - loss: 0.0067 - 8s/epoch - 2ms/step\n",
      "Epoch 2/10\n",
      "4764/4764 - 9s - loss: 0.0020 - 9s/epoch - 2ms/step\n",
      "Epoch 3/10\n",
      "4764/4764 - 6s - loss: 0.0018 - 6s/epoch - 1ms/step\n",
      "Epoch 4/10\n",
      "4764/4764 - 10s - loss: 0.0017 - 10s/epoch - 2ms/step\n",
      "Epoch 5/10\n",
      "4764/4764 - 6s - loss: 0.0016 - 6s/epoch - 1ms/step\n",
      "Epoch 6/10\n",
      "4764/4764 - 9s - loss: 0.0016 - 9s/epoch - 2ms/step\n",
      "Epoch 7/10\n",
      "4764/4764 - 6s - loss: 0.0016 - 6s/epoch - 1ms/step\n",
      "Epoch 8/10\n",
      "4764/4764 - 11s - loss: 0.0015 - 11s/epoch - 2ms/step\n",
      "Epoch 9/10\n",
      "4764/4764 - 6s - loss: 0.0015 - 6s/epoch - 1ms/step\n",
      "Epoch 10/10\n",
      "4764/4764 - 9s - loss: 0.0015 - 9s/epoch - 2ms/step\n",
      "149/149 [==============================] - 0s 1ms/step\n",
      "Train Score: 1.29 RMSE\n",
      "8/8 [==============================] - 0s 2ms/step\n"
     ]
    },
    {
     "name": "stderr",
     "output_type": "stream",
     "text": [
      "\r\n",
      "pyswarms.single.global_best:  65%|██████▌   |13/20, best_cost=0.722"
     ]
    },
    {
     "name": "stdout",
     "output_type": "stream",
     "text": [
      "Test Score: 1.02 RMSE\n"
     ]
    },
    {
     "name": "stderr",
     "output_type": "stream",
     "text": [
      "\r\n",
      "pyswarms.single.global_best:  70%|███████   |14/20, best_cost=0.722"
     ]
    },
    {
     "name": "stdout",
     "output_type": "stream",
     "text": [
      "Epoch 1/10\n",
      "4766/4766 - 9s - loss: 0.0083 - 9s/epoch - 2ms/step\n",
      "Epoch 2/10\n",
      "4766/4766 - 9s - loss: 0.0019 - 9s/epoch - 2ms/step\n",
      "Epoch 3/10\n",
      "4766/4766 - 8s - loss: 0.0017 - 8s/epoch - 2ms/step\n",
      "Epoch 4/10\n",
      "4766/4766 - 10s - loss: 0.0016 - 10s/epoch - 2ms/step\n",
      "Epoch 5/10\n",
      "4766/4766 - 10s - loss: 0.0017 - 10s/epoch - 2ms/step\n",
      "Epoch 6/10\n",
      "4766/4766 - 7s - loss: 0.0016 - 7s/epoch - 2ms/step\n",
      "Epoch 7/10\n",
      "4766/4766 - 10s - loss: 0.0016 - 10s/epoch - 2ms/step\n",
      "Epoch 8/10\n",
      "4766/4766 - 7s - loss: 0.0016 - 7s/epoch - 1ms/step\n",
      "Epoch 9/10\n",
      "4766/4766 - 11s - loss: 0.0015 - 11s/epoch - 2ms/step\n",
      "Epoch 10/10\n",
      "4766/4766 - 7s - loss: 0.0015 - 7s/epoch - 2ms/step\n",
      "149/149 [==============================] - 0s 1ms/step\n",
      "Train Score: 1.29 RMSE\n",
      "8/8 [==============================] - 0s 2ms/step\n"
     ]
    },
    {
     "name": "stderr",
     "output_type": "stream",
     "text": [
      "pyswarms.single.global_best:  75%|███████▌  |15/20, best_cost=0.68 "
     ]
    },
    {
     "name": "stdout",
     "output_type": "stream",
     "text": [
      "Test Score: 0.77 RMSE\n",
      "Epoch 1/10\n",
      "4768/4768 - 9s - loss: 0.0049 - 9s/epoch - 2ms/step\n",
      "Epoch 2/10\n",
      "4768/4768 - 8s - loss: 0.0017 - 8s/epoch - 2ms/step\n",
      "Epoch 3/10\n",
      "4768/4768 - 8s - loss: 0.0016 - 8s/epoch - 2ms/step\n",
      "Epoch 4/10\n",
      "4768/4768 - 7s - loss: 0.0016 - 7s/epoch - 2ms/step\n",
      "Epoch 5/10\n",
      "4768/4768 - 8s - loss: 0.0015 - 8s/epoch - 2ms/step\n",
      "Epoch 6/10\n",
      "4768/4768 - 7s - loss: 0.0015 - 7s/epoch - 2ms/step\n",
      "Epoch 7/10\n",
      "4768/4768 - 9s - loss: 0.0015 - 9s/epoch - 2ms/step\n",
      "Epoch 8/10\n",
      "4768/4768 - 7s - loss: 0.0015 - 7s/epoch - 2ms/step\n",
      "Epoch 9/10\n",
      "4768/4768 - 8s - loss: 0.0015 - 8s/epoch - 2ms/step\n",
      "Epoch 10/10\n",
      "4768/4768 - 7s - loss: 0.0015 - 7s/epoch - 1ms/step\n",
      "149/149 [==============================] - 1s 3ms/step\n",
      "Train Score: 1.44 RMSE\n",
      "8/8 [==============================] - 1s 3ms/step\n"
     ]
    },
    {
     "name": "stderr",
     "output_type": "stream",
     "text": [
      "pyswarms.single.global_best:  80%|████████  |16/20, best_cost=0.68"
     ]
    },
    {
     "name": "stdout",
     "output_type": "stream",
     "text": [
      "Test Score: 1.30 RMSE\n",
      "Epoch 1/10\n",
      "4770/4770 - 10s - loss: 0.0074 - 10s/epoch - 2ms/step\n",
      "Epoch 2/10\n",
      "4770/4770 - 11s - loss: 0.0021 - 11s/epoch - 2ms/step\n",
      "Epoch 3/10\n",
      "4770/4770 - 7s - loss: 0.0017 - 7s/epoch - 2ms/step\n",
      "Epoch 4/10\n",
      "4770/4770 - 10s - loss: 0.0016 - 10s/epoch - 2ms/step\n",
      "Epoch 5/10\n",
      "4770/4770 - 9s - loss: 0.0016 - 9s/epoch - 2ms/step\n",
      "Epoch 6/10\n",
      "4770/4770 - 8s - loss: 0.0016 - 8s/epoch - 2ms/step\n",
      "Epoch 7/10\n",
      "4770/4770 - 11s - loss: 0.0016 - 11s/epoch - 2ms/step\n",
      "Epoch 8/10\n",
      "4770/4770 - 6s - loss: 0.0015 - 6s/epoch - 1ms/step\n",
      "Epoch 9/10\n",
      "4770/4770 - 11s - loss: 0.0016 - 11s/epoch - 2ms/step\n",
      "Epoch 10/10\n",
      "4770/4770 - 7s - loss: 0.0015 - 7s/epoch - 1ms/step\n",
      "150/150 [==============================] - 1s 2ms/step\n",
      "Train Score: 1.31 RMSE\n",
      "8/8 [==============================] - 0s 2ms/step\n"
     ]
    },
    {
     "name": "stderr",
     "output_type": "stream",
     "text": [
      "pyswarms.single.global_best:  85%|████████▌ |17/20, best_cost=0.68"
     ]
    },
    {
     "name": "stdout",
     "output_type": "stream",
     "text": [
      "Test Score: 0.99 RMSE\n",
      "Epoch 1/10\n",
      "4770/4770 - 13s - loss: 0.0103 - 13s/epoch - 3ms/step\n",
      "Epoch 2/10\n",
      "4770/4770 - 12s - loss: 0.0019 - 12s/epoch - 3ms/step\n",
      "Epoch 3/10\n",
      "4770/4770 - 7s - loss: 0.0017 - 7s/epoch - 2ms/step\n",
      "Epoch 4/10\n",
      "4770/4770 - 10s - loss: 0.0016 - 10s/epoch - 2ms/step\n",
      "Epoch 5/10\n",
      "4770/4770 - 8s - loss: 0.0016 - 8s/epoch - 2ms/step\n",
      "Epoch 6/10\n",
      "4770/4770 - 9s - loss: 0.0016 - 9s/epoch - 2ms/step\n",
      "Epoch 7/10\n",
      "4770/4770 - 9s - loss: 0.0015 - 9s/epoch - 2ms/step\n",
      "Epoch 8/10\n",
      "4770/4770 - 8s - loss: 0.0015 - 8s/epoch - 2ms/step\n",
      "Epoch 9/10\n",
      "4770/4770 - 10s - loss: 0.0015 - 10s/epoch - 2ms/step\n",
      "Epoch 10/10\n",
      "4770/4770 - 7s - loss: 0.0015 - 7s/epoch - 1ms/step\n",
      "150/150 [==============================] - 1s 2ms/step\n",
      "Train Score: 1.29 RMSE\n",
      "8/8 [==============================] - 0s 2ms/step\n"
     ]
    },
    {
     "name": "stderr",
     "output_type": "stream",
     "text": [
      "pyswarms.single.global_best:  90%|█████████ |18/20, best_cost=0.68"
     ]
    },
    {
     "name": "stdout",
     "output_type": "stream",
     "text": [
      "Test Score: 0.96 RMSE\n",
      "Epoch 1/10\n",
      "4770/4770 - 11s - loss: 0.0036 - 11s/epoch - 2ms/step\n",
      "Epoch 2/10\n",
      "4770/4770 - 6s - loss: 0.0018 - 6s/epoch - 1ms/step\n",
      "Epoch 3/10\n",
      "4770/4770 - 9s - loss: 0.0016 - 9s/epoch - 2ms/step\n",
      "Epoch 4/10\n",
      "4770/4770 - 6s - loss: 0.0016 - 6s/epoch - 1ms/step\n",
      "Epoch 5/10\n",
      "4770/4770 - 10s - loss: 0.0015 - 10s/epoch - 2ms/step\n",
      "Epoch 6/10\n",
      "4770/4770 - 6s - loss: 0.0015 - 6s/epoch - 1ms/step\n",
      "Epoch 7/10\n",
      "4770/4770 - 10s - loss: 0.0015 - 10s/epoch - 2ms/step\n",
      "Epoch 8/10\n",
      "4770/4770 - 6s - loss: 0.0015 - 6s/epoch - 1ms/step\n",
      "Epoch 9/10\n",
      "4770/4770 - 10s - loss: 0.0015 - 10s/epoch - 2ms/step\n",
      "Epoch 10/10\n",
      "4770/4770 - 6s - loss: 0.0015 - 6s/epoch - 1ms/step\n",
      "150/150 [==============================] - 1s 2ms/step\n",
      "Train Score: 1.28 RMSE\n",
      "8/8 [==============================] - 0s 2ms/step\n"
     ]
    },
    {
     "name": "stderr",
     "output_type": "stream",
     "text": [
      "\r\n",
      "pyswarms.single.global_best:  90%|█████████ |18/20, best_cost=0.68"
     ]
    },
    {
     "name": "stdout",
     "output_type": "stream",
     "text": [
      "Test Score: 0.96 RMSE\n"
     ]
    },
    {
     "name": "stderr",
     "output_type": "stream",
     "text": [
      "\r\n",
      "pyswarms.single.global_best:  95%|█████████▌|19/20, best_cost=0.68"
     ]
    },
    {
     "name": "stdout",
     "output_type": "stream",
     "text": [
      "Epoch 1/10\n",
      "4769/4769 - 11s - loss: 0.0035 - 11s/epoch - 2ms/step\n",
      "Epoch 2/10\n",
      "4769/4769 - 7s - loss: 0.0018 - 7s/epoch - 1ms/step\n",
      "Epoch 3/10\n",
      "4769/4769 - 10s - loss: 0.0017 - 10s/epoch - 2ms/step\n",
      "Epoch 4/10\n",
      "4769/4769 - 7s - loss: 0.0017 - 7s/epoch - 1ms/step\n",
      "Epoch 5/10\n",
      "4769/4769 - 9s - loss: 0.0016 - 9s/epoch - 2ms/step\n",
      "Epoch 6/10\n",
      "4769/4769 - 7s - loss: 0.0015 - 7s/epoch - 1ms/step\n",
      "Epoch 7/10\n",
      "4769/4769 - 9s - loss: 0.0015 - 9s/epoch - 2ms/step\n",
      "Epoch 8/10\n",
      "4769/4769 - 6s - loss: 0.0015 - 6s/epoch - 1ms/step\n",
      "Epoch 9/10\n",
      "4769/4769 - 9s - loss: 0.0015 - 9s/epoch - 2ms/step\n",
      "Epoch 10/10\n",
      "4769/4769 - 6s - loss: 0.0015 - 6s/epoch - 1ms/step\n",
      "150/150 [==============================] - 1s 2ms/step\n",
      "Train Score: 1.33 RMSE\n",
      "8/8 [==============================] - 0s 2ms/step\n"
     ]
    },
    {
     "name": "stderr",
     "output_type": "stream",
     "text": [
      "pyswarms.single.global_best: 100%|██████████|20/20, best_cost=0.68"
     ]
    },
    {
     "name": "stdout",
     "output_type": "stream",
     "text": [
      "Test Score: 0.91 RMSE\n"
     ]
    },
    {
     "name": "stderr",
     "output_type": "stream",
     "text": [
      "pyswarms.single.global_best: 100%|██████████|20/20, best_cost=0.68\n",
      "2024-04-12 14:20:27,853 - pyswarms.single.global_best - INFO - Optimization finished | best cost: 0.679854362869709, best pos: [6.41988975 7.51349421 2.7083563  3.37228196]\n"
     ]
    },
    {
     "name": "stdout",
     "output_type": "stream",
     "text": [
      "Best position: [6.41988975 7.51349421 2.7083563  3.37228196]\n",
      "Best cost: 0.679854362869709\n"
     ]
    }
   ],
   "source": [
    "# Initialize the optimizer\n",
    "options={'c1': 0.5, 'c2': 0.3, 'w': 0.9}\n",
    "optimizer = GlobalBestPSO(n_particles= 15, dimensions= 4, options=options, bounds=bounds)\n",
    "\n",
    "# Run the optimization\n",
    "best_costs, best_hyperparams = optimizer.optimize(objective_function, iters= 20)\n",
    "\n",
    "# Print the best hyperparameters found\n",
    "print(\"Best position:\", best_hyperparams)\n",
    "print(\"Best cost:\", best_costs)"
   ]
  },
  {
   "cell_type": "code",
   "execution_count": 160,
   "metadata": {},
   "outputs": [
    {
     "data": {
      "text/plain": [
       "(6, 7, 'relu', 3)"
      ]
     },
     "execution_count": 160,
     "metadata": {},
     "output_type": "execute_result"
    }
   ],
   "source": [
    "look_back= int(best_hyperparams[0])\n",
    "Nunits= int(best_hyperparams[1])\n",
    "activation= int(best_hyperparams[2])\n",
    "if activation ==1:\n",
    "    activation = 'tanh'\n",
    "else:\n",
    "    activation = 'relu'\n",
    "NLayer= int(best_hyperparams[3])\n",
    "\n",
    "look_back, Nunits, activation, NLayer"
   ]
  },
  {
   "cell_type": "markdown",
   "metadata": {},
   "source": [
    "### Evaluating the model using the optimal hyper-parameters"
   ]
  },
  {
   "cell_type": "code",
   "execution_count": 162,
   "metadata": {},
   "outputs": [],
   "source": [
    "data_dir= 'Data/Stock_Values'\n",
    "files_names= os.listdir(path= data_dir) \n",
    "\n",
    "dataset =[]\n",
    "for files_name in files_names:\n",
    "    file_path= os.path.join(data_dir, files_name)\n",
    "    data = pd.read_csv(file_path)\n",
    "    data = pd.DataFrame(data['Close']).values.astype('float32')\n",
    "    if len(data)>=503: \n",
    "        # normalize the dataset with MinMax normalization\n",
    "        scaler = MinMaxScaler(feature_range=(0, 1))\n",
    "        data = scaler.fit_transform(data)\n",
    "        dataset.append(data)\n",
    "dataset= np.array(dataset).reshape(-1,1)"
   ]
  },
  {
   "cell_type": "code",
   "execution_count": 163,
   "metadata": {},
   "outputs": [
    {
     "name": "stdout",
     "output_type": "stream",
     "text": [
      "46351 2440\n"
     ]
    }
   ],
   "source": [
    "# split into train and test sets\n",
    "train_size = int(len(dataset) * 0.95)\n",
    "test_size = len(dataset) - train_size\n",
    "\n",
    "train, test = dataset[0:train_size,:], dataset[train_size:len(dataset),:]\n",
    "print(len(train), len(test))"
   ]
  },
  {
   "cell_type": "code",
   "execution_count": 164,
   "metadata": {},
   "outputs": [],
   "source": [
    "# convert an array of values into a dataset matrix\n",
    "def create_dataset(dataset, look_back):\n",
    "  dataX, dataY = [], []\n",
    "  for i in range(len(dataset)-look_back-1):\n",
    "    dataX.append(dataset[i:(i+look_back), 0])\n",
    "    dataY.append(dataset[i + look_back, 0])\n",
    "  return np.array(dataX), np.array(dataY)"
   ]
  },
  {
   "cell_type": "code",
   "execution_count": 165,
   "metadata": {
    "scrolled": true
   },
   "outputs": [
    {
     "name": "stdout",
     "output_type": "stream",
     "text": [
      "Epoch 1/10\n",
      "46344/46344 - 110s - loss: 0.0030 - 110s/epoch - 2ms/step\n",
      "Epoch 2/10\n",
      "46344/46344 - 106s - loss: 0.0016 - 106s/epoch - 2ms/step\n",
      "Epoch 3/10\n",
      "46344/46344 - 108s - loss: 0.0016 - 108s/epoch - 2ms/step\n",
      "Epoch 4/10\n",
      "46344/46344 - 108s - loss: 0.0016 - 108s/epoch - 2ms/step\n",
      "Epoch 5/10\n",
      "46344/46344 - 107s - loss: 0.0016 - 107s/epoch - 2ms/step\n",
      "Epoch 6/10\n",
      "46344/46344 - 106s - loss: 0.0016 - 106s/epoch - 2ms/step\n",
      "Epoch 7/10\n",
      "46344/46344 - 108s - loss: 0.0016 - 108s/epoch - 2ms/step\n",
      "Epoch 8/10\n",
      "46344/46344 - 124s - loss: 0.0015 - 124s/epoch - 3ms/step\n",
      "Epoch 9/10\n",
      "46344/46344 - 105s - loss: 0.0015 - 105s/epoch - 2ms/step\n",
      "Epoch 10/10\n",
      "46344/46344 - 121s - loss: 0.0015 - 121s/epoch - 3ms/step\n"
     ]
    },
    {
     "data": {
      "text/plain": [
       "<keras.src.callbacks.History at 0x24be319caf0>"
      ]
     },
     "execution_count": 165,
     "metadata": {},
     "output_type": "execute_result"
    }
   ],
   "source": [
    "# Training model with the best parameters\n",
    "trainX, trainY = create_dataset(train, look_back)\n",
    "testX, testY = create_dataset(test, look_back)\n",
    "\n",
    "trainX = np.reshape(trainX, (trainX.shape[0], 1, trainX.shape[1]))\n",
    "testX = np.reshape(testX, (testX.shape[0], 1, testX.shape[1]))\n",
    "\n",
    "# create and fit the LSTM network\n",
    "model = Sequential()\n",
    "    \n",
    "for t in range(1,NLayer+1):\n",
    "    if t == 1 and NLayer == 1:\n",
    "        model.add(LSTM(units=Nunits, activation=activation, input_shape=(1, look_back)))\n",
    "    elif t == 1 and NLayer > 1:\n",
    "        model.add(LSTM(units=Nunits, activation=activation, input_shape=(1, look_back), return_sequences=True))\n",
    "    elif t == NLayer:\n",
    "        model.add(LSTM(units=Nunits, activation=activation))\n",
    "    else:\n",
    "        model.add(LSTM(units=Nunits, activation=activation, return_sequences=True)) \n",
    "\n",
    "model.add(Dense(1))\n",
    "\n",
    "model.compile(loss='mean_squared_error', optimizer='adam')\n",
    "model.fit(trainX, trainY, epochs=10, batch_size=1, verbose=2)"
   ]
  },
  {
   "cell_type": "code",
   "execution_count": 166,
   "metadata": {},
   "outputs": [
    {
     "name": "stderr",
     "output_type": "stream",
     "text": [
      "C:\\ProgramData\\anaconda3\\lib\\site-packages\\keras\\src\\engine\\training.py:3000: UserWarning: You are saving your model as an HDF5 file via `model.save()`. This file format is considered legacy. We recommend using instead the native Keras format, e.g. `model.save('my_model.keras')`.\n",
      "  saving_api.save_model(\n"
     ]
    }
   ],
   "source": [
    "# Save the model\n",
    "model.save('Saved_Models/stock_prediction_model-close-value-Daily.h5')"
   ]
  },
  {
   "cell_type": "code",
   "execution_count": 167,
   "metadata": {
    "colab": {
     "base_uri": "https://localhost:8080/"
    },
    "id": "msgCunQDW1uH",
    "outputId": "b9831c7a-fed5-4cbf-d54a-fbc95164e5da",
    "scrolled": true
   },
   "outputs": [
    {
     "name": "stdout",
     "output_type": "stream",
     "text": [
      "1449/1449 [==============================] - 3s 2ms/step\n",
      "77/77 [==============================] - 0s 2ms/step\n",
      "Train Score: 7.56 RMSE\n",
      "Test Score: 7.13 RMSE\n"
     ]
    }
   ],
   "source": [
    "# make predictions\n",
    "trainPredict = model.predict(trainX)\n",
    "testPredict = model.predict(testX)\n",
    "\n",
    "# invert predictions\n",
    "trainPredict = scaler.inverse_transform(trainPredict)\n",
    "trainY = scaler.inverse_transform([trainY])\n",
    "testPredict = scaler.inverse_transform(testPredict)\n",
    "testY = scaler.inverse_transform([testY])\n",
    "# calculate root mean squared error\n",
    "trainScore = np.sqrt(mean_squared_error(trainY[0], trainPredict[:,0]))\n",
    "print('Train Score: %.2f RMSE' % (trainScore))\n",
    "testScore = np.sqrt(mean_squared_error(testY[0], testPredict[:,0]))\n",
    "print('Test Score: %.2f RMSE' % (testScore))"
   ]
  },
  {
   "cell_type": "markdown",
   "metadata": {},
   "source": [
    "## Testing the model for other data sets"
   ]
  },
  {
   "cell_type": "code",
   "execution_count": 3,
   "metadata": {},
   "outputs": [],
   "source": [
    "data = pd.read_csv('Data/AAPL.csv')\n",
    "dataset= data['Close']\n",
    "look_back= 6"
   ]
  },
  {
   "cell_type": "code",
   "execution_count": 4,
   "metadata": {},
   "outputs": [],
   "source": [
    "dataset = pd.DataFrame(dataset)\n",
    "dataset = dataset.values\n",
    "dataset = dataset.astype('float32')\n",
    "\n",
    "# normalize the dataset with MinMax normalization\n",
    "scaler = MinMaxScaler(feature_range=(0, 1))\n",
    "dataset = scaler.fit_transform(dataset)\n",
    "\n",
    "\n",
    "# convert an array of values into a dataset matrix\n",
    "def create_dataset(dataset, look_back):\n",
    "  dataX, dataY = [], []\n",
    "  for i in range(len(dataset)-look_back-1):\n",
    "    dataX.append(dataset[i:(i+look_back), 0])\n",
    "    dataY.append(dataset[i + look_back, 0])\n",
    "  return np.array(dataX), np.array(dataY)"
   ]
  },
  {
   "cell_type": "code",
   "execution_count": 5,
   "metadata": {},
   "outputs": [],
   "source": [
    "# Training model with the best parameters\n",
    "testX, testY = create_dataset(dataset, look_back)\n",
    "\n",
    "# reshape input to be [samples, time steps, features]\n",
    "testX = np.reshape(testX, (testX.shape[0], 1, testX.shape[1]))"
   ]
  },
  {
   "cell_type": "markdown",
   "metadata": {},
   "source": [
    "#### Loading the model from a saved model"
   ]
  },
  {
   "cell_type": "code",
   "execution_count": 6,
   "metadata": {},
   "outputs": [],
   "source": [
    "from keras.models import load_model\n",
    "\n",
    "# Load the saved model\n",
    "model = load_model('Saved_Models/stock_prediction_model-close-value-Daily.h5')"
   ]
  },
  {
   "cell_type": "code",
   "execution_count": 7,
   "metadata": {
    "scrolled": true
   },
   "outputs": [
    {
     "name": "stdout",
     "output_type": "stream",
     "text": [
      "16/16 [==============================] - 0s 993us/step\n",
      "Test Score: 3.24 RMSE\n"
     ]
    }
   ],
   "source": [
    "# make predictions\n",
    "testPredict = model.predict(testX)\n",
    "\n",
    "# invert predictions\n",
    "testPredict = scaler.inverse_transform(testPredict)\n",
    "testY = scaler.inverse_transform([testY])\n",
    "\n",
    "# calculate root mean squared error\n",
    "testScore = np.sqrt(mean_squared_error(testY[0], testPredict[:,0]))\n",
    "print('Test Score: %.2f RMSE' % (testScore))"
   ]
  },
  {
   "cell_type": "code",
   "execution_count": 12,
   "metadata": {},
   "outputs": [
    {
     "data": {
      "image/png": "[encoded data removed]",
      "text/plain": [
       "<Figure size 640x480 with 1 Axes>"
      ]
     },
     "metadata": {},
     "output_type": "display_data"
    }
   ],
   "source": [
    "# shift train predictions for plotting\n",
    "testPredictPlot = np.empty_like(dataset)\n",
    "testPredictPlot[:, :] = np.nan\n",
    "testPredictPlot[look_back-1:len(testPredict)+look_back-1, :] = testPredict\n",
    "\n",
    "# plot baseline and predictions\n",
    "plt.plot(scaler.inverse_transform(dataset), label='Original')\n",
    "plt.plot(testPredictPlot, label='Predicted')\n",
    "plt.legend()\n",
    "plt.show()"
   ]
  },
  {
   "cell_type": "code",
   "execution_count": null,
   "metadata": {},
   "outputs": [],
   "source": []
  }
 ],
 "metadata": {
  "colab": {
   "provenance": []
  },
  "kernelspec": {
   "display_name": "Python 3 (ipykernel)",
   "language": "python",
   "name": "python3"
  },
  "language_info": {
   "codemirror_mode": {
    "name": "ipython",
    "version": 3
   },
   "file_extension": ".py",
   "mimetype": "text/x-python",
   "name": "python",
   "nbconvert_exporter": "python",
   "pygments_lexer": "ipython3",
   "version": "3.10.9"
  }
 },
 "nbformat": 4,
 "nbformat_minor": 1
}
