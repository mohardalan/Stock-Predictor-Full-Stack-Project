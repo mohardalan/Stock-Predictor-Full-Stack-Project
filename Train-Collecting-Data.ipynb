{
 "cells": [
  {
   "cell_type": "markdown",
   "id": "7821c501",
   "metadata": {},
   "source": [
    "## Step 1 - To Get Stock Value History"
   ]
  },
  {
   "cell_type": "code",
   "execution_count": null,
   "id": "fbaec539",
   "metadata": {},
   "outputs": [],
   "source": [
    "#!pip install yfinance\n",
    "# https://newsapi.org/docs/client-libraries/python\n",
    "#!pip install newsapi-python"
   ]
  },
  {
   "cell_type": "code",
   "execution_count": 1,
   "id": "5b3f136b",
   "metadata": {},
   "outputs": [],
   "source": [
    "import pandas as pd\n",
    "import numpy as np\n",
    "import yfinance as yf\n",
    "import os\n",
    "from newsapi import NewsApiClient\n",
    "import datetime"
   ]
  },
  {
   "cell_type": "code",
   "execution_count": 211,
   "id": "5e59b0ef",
   "metadata": {},
   "outputs": [],
   "source": [
    "# Loading the selected tickers\n",
    "Selected_stocks= pd.read_csv('Data/Top-Tickers.csv')\n",
    "\n",
    "Tickers= Selected_stocks['Ticker']"
   ]
  },
  {
   "cell_type": "code",
   "execution_count": 208,
   "id": "93219689",
   "metadata": {
    "scrolled": true
   },
   "outputs": [
    {
     "name": "stderr",
     "output_type": "stream",
     "text": [
      "[*********************100%%**********************]  1 of 1 completed\n",
      "[*********************100%%**********************]  1 of 1 completed\n",
      "[*********************100%%**********************]  1 of 1 completed\n",
      "[*********************100%%**********************]  1 of 1 completed\n",
      "[*********************100%%**********************]  1 of 1 completed\n",
      "[*********************100%%**********************]  1 of 1 completed\n",
      "[*********************100%%**********************]  1 of 1 completed\n",
      "[*********************100%%**********************]  1 of 1 completed\n",
      "\n",
      "1 Failed download:\n",
      "['BVH']: Exception('%ticker%: No timezone found, symbol may be delisted')\n",
      "[*********************100%%**********************]  1 of 1 completed\n",
      "[*********************100%%**********************]  1 of 1 completed\n",
      "[*********************100%%**********************]  1 of 1 completed\n",
      "[*********************100%%**********************]  1 of 1 completed\n",
      "[*********************100%%**********************]  1 of 1 completed\n",
      "[*********************100%%**********************]  1 of 1 completed\n",
      "[*********************100%%**********************]  1 of 1 completed\n",
      "[*********************100%%**********************]  1 of 1 completed\n",
      "[*********************100%%**********************]  1 of 1 completed\n",
      "[*********************100%%**********************]  1 of 1 completed\n",
      "[*********************100%%**********************]  1 of 1 completed\n",
      "[*********************100%%**********************]  1 of 1 completed\n",
      "[*********************100%%**********************]  1 of 1 completed\n",
      "[*********************100%%**********************]  1 of 1 completed\n",
      "[*********************100%%**********************]  1 of 1 completed\n",
      "[*********************100%%**********************]  1 of 1 completed\n",
      "[*********************100%%**********************]  1 of 1 completed\n",
      "[*********************100%%**********************]  1 of 1 completed\n",
      "[*********************100%%**********************]  1 of 1 completed\n",
      "[*********************100%%**********************]  1 of 1 completed\n",
      "[*********************100%%**********************]  1 of 1 completed\n",
      "[*********************100%%**********************]  1 of 1 completed\n",
      "[*********************100%%**********************]  1 of 1 completed\n",
      "[*********************100%%**********************]  1 of 1 completed\n",
      "[*********************100%%**********************]  1 of 1 completed\n",
      "[*********************100%%**********************]  1 of 1 completed\n",
      "[*********************100%%**********************]  1 of 1 completed\n",
      "[*********************100%%**********************]  1 of 1 completed\n",
      "[*********************100%%**********************]  1 of 1 completed\n",
      "[*********************100%%**********************]  1 of 1 completed\n",
      "[*********************100%%**********************]  1 of 1 completed\n",
      "[*********************100%%**********************]  1 of 1 completed\n",
      "[*********************100%%**********************]  1 of 1 completed\n",
      "[*********************100%%**********************]  1 of 1 completed\n",
      "[*********************100%%**********************]  1 of 1 completed\n",
      "[*********************100%%**********************]  1 of 1 completed\n",
      "[*********************100%%**********************]  1 of 1 completed\n",
      "[*********************100%%**********************]  1 of 1 completed\n",
      "[*********************100%%**********************]  1 of 1 completed\n",
      "[*********************100%%**********************]  1 of 1 completed\n",
      "[*********************100%%**********************]  1 of 1 completed\n",
      "[*********************100%%**********************]  1 of 1 completed\n",
      "[*********************100%%**********************]  1 of 1 completed\n",
      "[*********************100%%**********************]  1 of 1 completed\n",
      "[*********************100%%**********************]  1 of 1 completed\n",
      "[*********************100%%**********************]  1 of 1 completed\n",
      "[*********************100%%**********************]  1 of 1 completed\n",
      "[*********************100%%**********************]  1 of 1 completed\n",
      "[*********************100%%**********************]  1 of 1 completed\n",
      "[*********************100%%**********************]  1 of 1 completed\n",
      "[*********************100%%**********************]  1 of 1 completed\n",
      "[*********************100%%**********************]  1 of 1 completed\n",
      "[*********************100%%**********************]  1 of 1 completed\n",
      "[*********************100%%**********************]  1 of 1 completed\n",
      "[*********************100%%**********************]  1 of 1 completed\n",
      "[*********************100%%**********************]  1 of 1 completed\n",
      "[*********************100%%**********************]  1 of 1 completed\n",
      "[*********************100%%**********************]  1 of 1 completed\n",
      "[*********************100%%**********************]  1 of 1 completed\n",
      "[*********************100%%**********************]  1 of 1 completed\n",
      "[*********************100%%**********************]  1 of 1 completed\n",
      "[*********************100%%**********************]  1 of 1 completed\n",
      "[*********************100%%**********************]  1 of 1 completed\n",
      "[*********************100%%**********************]  1 of 1 completed\n",
      "[*********************100%%**********************]  1 of 1 completed\n",
      "[*********************100%%**********************]  1 of 1 completed\n",
      "[*********************100%%**********************]  1 of 1 completed\n",
      "[*********************100%%**********************]  1 of 1 completed\n",
      "[*********************100%%**********************]  1 of 1 completed\n",
      "[*********************100%%**********************]  1 of 1 completed\n",
      "[*********************100%%**********************]  1 of 1 completed\n",
      "[*********************100%%**********************]  1 of 1 completed\n",
      "[*********************100%%**********************]  1 of 1 completed\n",
      "[*********************100%%**********************]  1 of 1 completed\n",
      "[*********************100%%**********************]  1 of 1 completed\n",
      "[*********************100%%**********************]  1 of 1 completed\n",
      "[*********************100%%**********************]  1 of 1 completed\n",
      "[*********************100%%**********************]  1 of 1 completed\n",
      "[*********************100%%**********************]  1 of 1 completed\n",
      "[*********************100%%**********************]  1 of 1 completed\n",
      "[*********************100%%**********************]  1 of 1 completed\n",
      "[*********************100%%**********************]  1 of 1 completed\n",
      "[*********************100%%**********************]  1 of 1 completed\n",
      "[*********************100%%**********************]  1 of 1 completed\n",
      "[*********************100%%**********************]  1 of 1 completed\n",
      "[*********************100%%**********************]  1 of 1 completed\n",
      "[*********************100%%**********************]  1 of 1 completed\n",
      "[*********************100%%**********************]  1 of 1 completed\n",
      "[*********************100%%**********************]  1 of 1 completed\n",
      "[*********************100%%**********************]  1 of 1 completed\n",
      "[*********************100%%**********************]  1 of 1 completed\n",
      "[*********************100%%**********************]  1 of 1 completed\n"
     ]
    }
   ],
   "source": [
    "# Define the start and end dates for stock values\n",
    "start_date = \"2022-04-01\"\n",
    "end_date = \"2024-04-04\"\n",
    "\n",
    "for Ticker in Tickers:\n",
    "    # Fetch the historical stock data\n",
    "    stock_data = yf.download(Ticker, start=start_date, end=end_date)\n",
    "    if len(stock_data)>0: \n",
    "        stock_data.to_csv(f'Data/Stock_Values/{Ticker}.csv')"
   ]
  },
  {
   "cell_type": "markdown",
   "id": "760ae626",
   "metadata": {},
   "source": [
    "## Step 2 - To Get Stocks News"
   ]
  },
  {
   "cell_type": "code",
   "execution_count": 2,
   "id": "f3711bc3",
   "metadata": {},
   "outputs": [],
   "source": [
    "# Define the labels\n",
    "labels= os.listdir('Data/Stock_Values')\n",
    "Tickers= [label[:-4] for label in labels]"
   ]
  },
  {
   "cell_type": "code",
   "execution_count": 3,
   "id": "b6d84d36",
   "metadata": {},
   "outputs": [],
   "source": [
    "Selected_stocks = pd.read_csv('Data/Top-Tickers.csv')\n",
    "Filtered_Stocks = Selected_stocks[Selected_stocks['Ticker'].isin(Tickers)]"
   ]
  },
  {
   "cell_type": "code",
   "execution_count": 6,
   "id": "70110399",
   "metadata": {},
   "outputs": [],
   "source": [
    "# Initialize the News API client\n",
    "newsapi = NewsApiClient(api_key='840ad37b953b43a49bda0c5f6e07041c')\n",
    "\n",
    "# Define the start and end dates\n",
    "start_date = datetime.datetime(2024, 3, 7).strftime('%Y-%m-%d')\n",
    "end_date = datetime.datetime(2024, 4, 6).strftime('%Y-%m-%d')"
   ]
  },
  {
   "cell_type": "code",
   "execution_count": 7,
   "id": "67e3ffb9",
   "metadata": {},
   "outputs": [],
   "source": [
    "for Ticker in Tickers[50:]:\n",
    "    Selected_stock= Selected_stocks[Selected_stocks['Ticker'].isin([Ticker])]\n",
    "    Name= Selected_stock['Company'].values[0]\n",
    "    \n",
    "    # Query news articles for the ticker between the specified dates\n",
    "    news_articles = newsapi.get_everything(q= Ticker or Name, qintitle= Ticker or Name, from_param=start_date, to=end_date, language='en', sort_by='publishedAt', page_size=100)\n",
    "    \n",
    "    News_data= pd.DataFrame(news_articles['articles'])\n",
    "    News_data.to_csv(f'Data/Stock_News/{Ticker}.csv')"
   ]
  },
  {
   "cell_type": "code",
   "execution_count": 259,
   "id": "ff5de73c",
   "metadata": {},
   "outputs": [],
   "source": []
  }
 ],
 "metadata": {
  "kernelspec": {
   "display_name": "Python 3 (ipykernel)",
   "language": "python",
   "name": "python3"
  },
  "language_info": {
   "codemirror_mode": {
    "name": "ipython",
    "version": 3
   },
   "file_extension": ".py",
   "mimetype": "text/x-python",
   "name": "python",
   "nbconvert_exporter": "python",
   "pygments_lexer": "ipython3",
   "version": "3.10.9"
  }
 },
 "nbformat": 4,
 "nbformat_minor": 5
}
