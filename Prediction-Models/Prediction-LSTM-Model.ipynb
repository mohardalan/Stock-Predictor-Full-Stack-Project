{
 "cells": [
  {
   "cell_type": "code",
   "execution_count": 18,
   "metadata": {},
   "outputs": [],
   "source": [
    "# Using the model for prediction"
   ]
  },
  {
   "cell_type": "code",
   "execution_count": 279,
   "metadata": {
    "id": "dIfZl639VpGb"
   },
   "outputs": [],
   "source": [
    "import numpy as np\n",
    "import matplotlib.pyplot as plt\n",
    "import pandas as pd\n",
    "from sklearn.preprocessing import MinMaxScaler\n",
    "from keras.models import load_model"
   ]
  },
  {
   "cell_type": "code",
   "execution_count": 280,
   "metadata": {},
   "outputs": [],
   "source": [
    "#!pip install yfinance\n",
    "import yfinance as yf\n",
    "from datetime import datetime, timedelta"
   ]
  },
  {
   "cell_type": "code",
   "execution_count": 281,
   "metadata": {},
   "outputs": [],
   "source": [
    "def Get_Last_Stock_Values(Tickers):\n",
    "\n",
    "    # Get current date and time\n",
    "    current_time = datetime.now()\n",
    "\n",
    "    # Get closing time of the stock market (Assuming 16:00 as closing time)\n",
    "    closing_time = current_time.replace(hour=16, minute=0, second=0, microsecond=0)\n",
    "\n",
    "    # Check if current time is after closing time\n",
    "    if current_time > closing_time:\n",
    "        # If after closing time, set start_date as today\n",
    "        end_date = current_time.strftime(\"%Y-%m-%d\")\n",
    "    else:\n",
    "        # If before closing time, set start_date as yesterday\n",
    "        end_date = (current_time - timedelta(days=1)).strftime(\"%Y-%m-%d\")\n",
    "\n",
    "    # Set end_date as N days ago from the start_date\n",
    "    start_date = (datetime.strptime(end_date, \"%Y-%m-%d\") - timedelta(days=60)).strftime(\"%Y-%m-%d\")\n",
    "\n",
    "    for Ticker in Tickers:\n",
    "        stock_data = yf.download(Ticker, start=start_date, end=end_date)\n",
    "        if len(stock_data)>0: \n",
    "            stock_data.to_csv(f'Data/Stock_Values/{Ticker}.csv')\n",
    "        else:\n",
    "            print('Warning: No data returned from API')"
   ]
  },
  {
   "cell_type": "code",
   "execution_count": 327,
   "metadata": {},
   "outputs": [],
   "source": [
    "def import_data(look_back, Ticker, step_lenght):\n",
    "    \n",
    "    Data_url= f'Data/Stock_Values/{Ticker}.csv'\n",
    "    dataset= pd.DataFrame(pd.read_csv(Data_url)['Close']).values.astype('float32')\n",
    "    dates_df= pd.read_csv(Data_url)['Date']\n",
    "    # normalize the dataset with MinMax normalization\n",
    "    scaler = MinMaxScaler(feature_range=(0, 1))\n",
    "    dataset = scaler.fit_transform(dataset)\n",
    "    \n",
    "    dataset= dataset[::-step_lenght][::-1]\n",
    "    dates_df= dates_df[::-step_lenght][::-1]\n",
    "    \n",
    "    testX= dataset[-look_back:, 0].reshape(1, 1, -1)\n",
    "    dates= dates_df[-look_back:]\n",
    "    \n",
    "    return testX, scaler, dates.values"
   ]
  },
  {
   "cell_type": "code",
   "execution_count": 321,
   "metadata": {},
   "outputs": [],
   "source": [
    "def run_model(testX, scaler, Model_url, look_back, No_steps):\n",
    "    # Load the saved model\n",
    "    model = load_model(Model_url)\n",
    "    \n",
    "    Data= testX\n",
    "    for step in range(1, No_steps+1):\n",
    "        # make predictions\n",
    "        testPredict = model.predict(Data[0][0][-look_back:].reshape(1,1,-1))\n",
    "        \n",
    "        # Concatenate along the last axis       \n",
    "        Data = np.concatenate((Data, np.reshape(testPredict, (1, 1, 1))), axis=-1)\n",
    "    \n",
    "    Data = scaler.inverse_transform(Data[0]).reshape(1,1,-1)\n",
    "    return Data"
   ]
  },
  {
   "cell_type": "code",
   "execution_count": 322,
   "metadata": {},
   "outputs": [],
   "source": [
    "def plot_graph(testPredict, look_back, No_steps, Dates):\n",
    "    \n",
    "    Xtest= testPredict[0][0][0:look_back]\n",
    "    Xpred= testPredict[0][0][look_back-1:]\n",
    "\n",
    "    # plot baseline and predictions   \n",
    "    plt.plot(Dates[:look_back], Xtest, 'bo-')\n",
    "    plt.plot(Dates[look_back-1: look_back+No_steps+1], Xpred, 'ro--')\n",
    "    plt.xticks(rotation='vertical') \n",
    "    \n",
    "    plt.show()"
   ]
  },
  {
   "cell_type": "code",
   "execution_count": 331,
   "metadata": {},
   "outputs": [],
   "source": [
    "def date_set(dates, No_steps, step_lenght):\n",
    "    next_dates = []\n",
    "    last_date= datetime.strptime(dates[-1], \"%Y-%m-%d\")\n",
    "    for _ in range(No_steps):\n",
    "        next_date = (last_date + timedelta(days= step_lenght)).strftime(\"%Y-%m-%d\")\n",
    "        last_date= datetime.strptime(next_date, \"%Y-%m-%d\")\n",
    "        next_dates.append(next_date)\n",
    "    Dates= np.concatenate((dates, next_dates), axis=-1)\n",
    "    return Dates"
   ]
  },
  {
   "cell_type": "code",
   "execution_count": 324,
   "metadata": {},
   "outputs": [],
   "source": [
    "Data_url= f'Data/Stock_Values/AZEK.csv' \n",
    "Model_url= 'Saved_Models/stock_prediction_model.h5' \n",
    "Tickers = ['AZEK']  # Example Ticker symbol \n",
    "look_back= 8\n",
    "No_steps= 5\n",
    "step_lenght= 5\n",
    "\n",
    "\n",
    "testX, scaler, dates, dataset = import_data(look_back, Tickers[0], step_lenght)"
   ]
  },
  {
   "cell_type": "code",
   "execution_count": 332,
   "metadata": {},
   "outputs": [],
   "source": [
    "def main():\n",
    "    Data_url= f'Data/Stock_Values/AZEK.csv' \n",
    "    Model_url= 'Saved_Models/stock_prediction_model.h5' \n",
    "    Tickers = ['AZEK']  # Example Ticker symbol \n",
    "    look_back= 8\n",
    "    No_steps= 5\n",
    "    step_lenght= 5\n",
    "    \n",
    "    #Get_Last_Stock_Values(Tickers)\n",
    "    \n",
    "    testX, scaler, dates = import_data(look_back, Tickers[0], step_lenght)\n",
    "    \n",
    "    testPredict= run_model(testX, scaler, Model_url, look_back, No_steps)\n",
    "    \n",
    "    Dates= date_set(dates, No_steps, step_lenght)\n",
    "    \n",
    "    plot_graph(testPredict, look_back, No_steps, Dates)\n",
    "    "
   ]
  },
  {
   "cell_type": "code",
   "execution_count": 333,
   "metadata": {},
   "outputs": [
    {
     "name": "stdout",
     "output_type": "stream",
     "text": [
      "1/1 [==============================] - 0s 338ms/step\n",
      "1/1 [==============================] - 0s 18ms/step\n",
      "1/1 [==============================] - 0s 18ms/step\n",
      "1/1 [==============================] - 0s 19ms/step\n",
      "1/1 [==============================] - 0s 19ms/step\n"
     ]
    },
    {
     "data": {
      "image/png": "[encoded data removed]",
      "text/plain": [
       "<Figure size 640x480 with 1 Axes>"
      ]
     },
     "metadata": {},
     "output_type": "display_data"
    }
   ],
   "source": [
    "if __name__ == \"__main__\":\n",
    "    main()"
   ]
  },
  {
   "cell_type": "code",
   "execution_count": null,
   "metadata": {},
   "outputs": [],
   "source": []
  }
 ],
 "metadata": {
  "colab": {
   "provenance": []
  },
  "kernelspec": {
   "display_name": "Python 3 (ipykernel)",
   "language": "python",
   "name": "python3"
  },
  "language_info": {
   "codemirror_mode": {
    "name": "ipython",
    "version": 3
   },
   "file_extension": ".py",
   "mimetype": "text/x-python",
   "name": "python",
   "nbconvert_exporter": "python",
   "pygments_lexer": "ipython3",
   "version": "3.10.9"
  }
 },
 "nbformat": 4,
 "nbformat_minor": 1
}
